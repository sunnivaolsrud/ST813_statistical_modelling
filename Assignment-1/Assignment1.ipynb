{
 "cells": [
  {
   "cell_type": "markdown",
   "metadata": {},
   "source": [
    "# Assignment 1 (ST813)"
   ]
  },
  {
   "cell_type": "markdown",
   "metadata": {},
   "source": [
    "## Exercise 1"
   ]
  },
  {
   "cell_type": "markdown",
   "metadata": {},
   "source": [
    "### (Data Exploration)"
   ]
  },
  {
   "cell_type": "code",
   "execution_count": 1,
   "metadata": {
    "vscode": {
     "languageId": "r"
    }
   },
   "outputs": [],
   "source": [
    "# load data\n",
    "load(\"Data_ST523_813_E2024.rdata\")"
   ]
  },
  {
   "cell_type": "code",
   "execution_count": 2,
   "metadata": {
    "vscode": {
     "languageId": "r"
    }
   },
   "outputs": [
    {
     "data": {
      "text/html": [
       "'data'"
      ],
      "text/latex": [
       "'data'"
      ],
      "text/markdown": [
       "'data'"
      ],
      "text/plain": [
       "[1] \"data\""
      ]
     },
     "metadata": {},
     "output_type": "display_data"
    }
   ],
   "source": [
    "ls()"
   ]
  },
  {
   "cell_type": "code",
   "execution_count": 3,
   "metadata": {
    "vscode": {
     "languageId": "r"
    }
   },
   "outputs": [
    {
     "data": {
      "text/html": [
       "<table class=\"dataframe\">\n",
       "<caption>A data.frame: 6 × 13</caption>\n",
       "<thead>\n",
       "\t<tr><th></th><th scope=col>Adress</th><th scope=col>District</th><th scope=col>Postcode</th><th scope=col>Price</th><th scope=col>Pricesqm</th><th scope=col>Dato</th><th scope=col>Type</th><th scope=col>Energyclass</th><th scope=col>Surface</th><th scope=col>Rooms</th><th scope=col>Toilets</th><th scope=col>Roof</th><th scope=col>Yearc</th></tr>\n",
       "\t<tr><th></th><th scope=col>&lt;chr&gt;</th><th scope=col>&lt;chr&gt;</th><th scope=col>&lt;fct&gt;</th><th scope=col>&lt;dbl&gt;</th><th scope=col>&lt;dbl&gt;</th><th scope=col>&lt;date&gt;</th><th scope=col>&lt;fct&gt;</th><th scope=col>&lt;fct&gt;</th><th scope=col>&lt;dbl&gt;</th><th scope=col>&lt;dbl&gt;</th><th scope=col>&lt;dbl&gt;</th><th scope=col>&lt;fct&gt;</th><th scope=col>&lt;dbl&gt;</th></tr>\n",
       "</thead>\n",
       "<tbody>\n",
       "\t<tr><th scope=row>1</th><td>Kastanievej 74, 2. 13.</td><td>Odense</td><td>5230</td><td>1461538</td><td>22144.52</td><td>2024-09-30</td><td>Apartment</td><td>C</td><td>66</td><td>2</td><td>1</td><td>Roof tile</td><td>1992</td></tr>\n",
       "\t<tr><th scope=row>2</th><td>Kastanievej 74, 2. 12.</td><td>Odense</td><td>5230</td><td>1461538</td><td>20879.12</td><td>2024-09-30</td><td>Apartment</td><td>C</td><td>70</td><td>2</td><td>1</td><td>Roof tile</td><td>1992</td></tr>\n",
       "\t<tr><th scope=row>3</th><td>Kastanievej 74, 2. 11.</td><td>Odense</td><td>5230</td><td>1461538</td><td>20879.12</td><td>2024-09-30</td><td>Apartment</td><td>C</td><td>70</td><td>2</td><td>1</td><td>Roof tile</td><td>1992</td></tr>\n",
       "\t<tr><th scope=row>4</th><td>Kastanievej 74, 2. 10.</td><td>Odense</td><td>5230</td><td>1461538</td><td>22144.52</td><td>2024-09-30</td><td>Apartment</td><td>C</td><td>66</td><td>2</td><td>1</td><td>Roof tile</td><td>1992</td></tr>\n",
       "\t<tr><th scope=row>5</th><td>Kastanievej 74, 1. 9. </td><td>Odense</td><td>5230</td><td>1461538</td><td>22144.52</td><td>2024-09-30</td><td>Apartment</td><td>C</td><td>66</td><td>2</td><td>1</td><td>Roof tile</td><td>1992</td></tr>\n",
       "\t<tr><th scope=row>6</th><td>Kastanievej 74, 1. 8. </td><td>Odense</td><td>5230</td><td>1461538</td><td>20879.12</td><td>2024-09-30</td><td>Apartment</td><td>C</td><td>70</td><td>2</td><td>1</td><td>Roof tile</td><td>1992</td></tr>\n",
       "</tbody>\n",
       "</table>\n"
      ],
      "text/latex": [
       "A data.frame: 6 × 13\n",
       "\\begin{tabular}{r|lllllllllllll}\n",
       "  & Adress & District & Postcode & Price & Pricesqm & Dato & Type & Energyclass & Surface & Rooms & Toilets & Roof & Yearc\\\\\n",
       "  & <chr> & <chr> & <fct> & <dbl> & <dbl> & <date> & <fct> & <fct> & <dbl> & <dbl> & <dbl> & <fct> & <dbl>\\\\\n",
       "\\hline\n",
       "\t1 & Kastanievej 74, 2. 13. & Odense & 5230 & 1461538 & 22144.52 & 2024-09-30 & Apartment & C & 66 & 2 & 1 & Roof tile & 1992\\\\\n",
       "\t2 & Kastanievej 74, 2. 12. & Odense & 5230 & 1461538 & 20879.12 & 2024-09-30 & Apartment & C & 70 & 2 & 1 & Roof tile & 1992\\\\\n",
       "\t3 & Kastanievej 74, 2. 11. & Odense & 5230 & 1461538 & 20879.12 & 2024-09-30 & Apartment & C & 70 & 2 & 1 & Roof tile & 1992\\\\\n",
       "\t4 & Kastanievej 74, 2. 10. & Odense & 5230 & 1461538 & 22144.52 & 2024-09-30 & Apartment & C & 66 & 2 & 1 & Roof tile & 1992\\\\\n",
       "\t5 & Kastanievej 74, 1. 9.  & Odense & 5230 & 1461538 & 22144.52 & 2024-09-30 & Apartment & C & 66 & 2 & 1 & Roof tile & 1992\\\\\n",
       "\t6 & Kastanievej 74, 1. 8.  & Odense & 5230 & 1461538 & 20879.12 & 2024-09-30 & Apartment & C & 70 & 2 & 1 & Roof tile & 1992\\\\\n",
       "\\end{tabular}\n"
      ],
      "text/markdown": [
       "\n",
       "A data.frame: 6 × 13\n",
       "\n",
       "| <!--/--> | Adress &lt;chr&gt; | District &lt;chr&gt; | Postcode &lt;fct&gt; | Price &lt;dbl&gt; | Pricesqm &lt;dbl&gt; | Dato &lt;date&gt; | Type &lt;fct&gt; | Energyclass &lt;fct&gt; | Surface &lt;dbl&gt; | Rooms &lt;dbl&gt; | Toilets &lt;dbl&gt; | Roof &lt;fct&gt; | Yearc &lt;dbl&gt; |\n",
       "|---|---|---|---|---|---|---|---|---|---|---|---|---|---|\n",
       "| 1 | Kastanievej 74, 2. 13. | Odense | 5230 | 1461538 | 22144.52 | 2024-09-30 | Apartment | C | 66 | 2 | 1 | Roof tile | 1992 |\n",
       "| 2 | Kastanievej 74, 2. 12. | Odense | 5230 | 1461538 | 20879.12 | 2024-09-30 | Apartment | C | 70 | 2 | 1 | Roof tile | 1992 |\n",
       "| 3 | Kastanievej 74, 2. 11. | Odense | 5230 | 1461538 | 20879.12 | 2024-09-30 | Apartment | C | 70 | 2 | 1 | Roof tile | 1992 |\n",
       "| 4 | Kastanievej 74, 2. 10. | Odense | 5230 | 1461538 | 22144.52 | 2024-09-30 | Apartment | C | 66 | 2 | 1 | Roof tile | 1992 |\n",
       "| 5 | Kastanievej 74, 1. 9.  | Odense | 5230 | 1461538 | 22144.52 | 2024-09-30 | Apartment | C | 66 | 2 | 1 | Roof tile | 1992 |\n",
       "| 6 | Kastanievej 74, 1. 8.  | Odense | 5230 | 1461538 | 20879.12 | 2024-09-30 | Apartment | C | 70 | 2 | 1 | Roof tile | 1992 |\n",
       "\n"
      ],
      "text/plain": [
       "  Adress                 District Postcode Price   Pricesqm Dato      \n",
       "1 Kastanievej 74, 2. 13. Odense   5230     1461538 22144.52 2024-09-30\n",
       "2 Kastanievej 74, 2. 12. Odense   5230     1461538 20879.12 2024-09-30\n",
       "3 Kastanievej 74, 2. 11. Odense   5230     1461538 20879.12 2024-09-30\n",
       "4 Kastanievej 74, 2. 10. Odense   5230     1461538 22144.52 2024-09-30\n",
       "5 Kastanievej 74, 1. 9.  Odense   5230     1461538 22144.52 2024-09-30\n",
       "6 Kastanievej 74, 1. 8.  Odense   5230     1461538 20879.12 2024-09-30\n",
       "  Type      Energyclass Surface Rooms Toilets Roof      Yearc\n",
       "1 Apartment C           66      2     1       Roof tile 1992 \n",
       "2 Apartment C           70      2     1       Roof tile 1992 \n",
       "3 Apartment C           70      2     1       Roof tile 1992 \n",
       "4 Apartment C           66      2     1       Roof tile 1992 \n",
       "5 Apartment C           66      2     1       Roof tile 1992 \n",
       "6 Apartment C           70      2     1       Roof tile 1992 "
      ]
     },
     "metadata": {},
     "output_type": "display_data"
    }
   ],
   "source": [
    "head(data)"
   ]
  },
  {
   "cell_type": "code",
   "execution_count": 4,
   "metadata": {
    "vscode": {
     "languageId": "r"
    }
   },
   "outputs": [
    {
     "data": {
      "text/html": [
       "<style>\n",
       ".list-inline {list-style: none; margin:0; padding: 0}\n",
       ".list-inline>li {display: inline-block}\n",
       ".list-inline>li:not(:last-child)::after {content: \"\\00b7\"; padding: 0 .5ex}\n",
       "</style>\n",
       "<ol class=list-inline><li>135</li><li>13</li></ol>\n"
      ],
      "text/latex": [
       "\\begin{enumerate*}\n",
       "\\item 135\n",
       "\\item 13\n",
       "\\end{enumerate*}\n"
      ],
      "text/markdown": [
       "1. 135\n",
       "2. 13\n",
       "\n",
       "\n"
      ],
      "text/plain": [
       "[1] 135  13"
      ]
     },
     "metadata": {},
     "output_type": "display_data"
    }
   ],
   "source": [
    "dim(data)"
   ]
  },
  {
   "cell_type": "markdown",
   "metadata": {
    "vscode": {
     "languageId": "r"
    }
   },
   "source": [
    "The data contains 13 variables with 135 observations."
   ]
  },
  {
   "cell_type": "code",
   "execution_count": 5,
   "metadata": {
    "vscode": {
     "languageId": "r"
    }
   },
   "outputs": [
    {
     "name": "stdout",
     "output_type": "stream",
     "text": [
      "'data.frame':\t135 obs. of  13 variables:\n",
      " $ Adress     : chr  \"Kastanievej 74, 2. 13.\" \"Kastanievej 74, 2. 12.\" \"Kastanievej 74, 2. 11.\" \"Kastanievej 74, 2. 10.\" ...\n",
      " $ District   : chr  \"Odense\" \"Odense\" \"Odense\" \"Odense\" ...\n",
      " $ Postcode   : Factor w/ 6 levels \"5000\",\"5200+5210\",..: 4 4 4 4 4 4 4 4 4 4 ...\n",
      " $ Price      : num  1461538 1461538 1461538 1461538 1461538 ...\n",
      " $ Pricesqm   : num  22145 20879 20879 22145 22145 ...\n",
      " $ Dato       : Date, format: \"2024-09-30\" \"2024-09-30\" ...\n",
      " $ Type       : Factor w/ 3 levels \"Apartment\",\"Rowhouse\",..: 1 1 1 1 1 1 1 1 1 1 ...\n",
      " $ Energyclass: Factor w/ 7 levels \"A\",\"B\",\"C\",\"D\",..: 3 3 3 3 3 3 3 3 3 3 ...\n",
      " $ Surface    : num  66 70 70 66 66 70 70 66 66 70 ...\n",
      " $ Rooms      : num  2 2 2 2 2 2 2 2 2 2 ...\n",
      " $ Toilets    : num  1 1 1 1 1 1 1 1 1 1 ...\n",
      " $ Roof       : Factor w/ 3 levels \"Roof tile\",\"Other material\",..: 1 1 1 1 1 1 1 1 1 1 ...\n",
      " $ Yearc      : num  1992 1992 1992 1992 1992 ...\n"
     ]
    }
   ],
   "source": [
    "str(data)"
   ]
  },
  {
   "cell_type": "markdown",
   "metadata": {},
   "source": [
    "- Catergorical variables: Adress, District, Postcode, Type, Energyclass, Rooms, Toilets, Roof, Year.\n",
    "- Continuous variables: Price, Pricesqm, Dato, Surface."
   ]
  },
  {
   "cell_type": "markdown",
   "metadata": {},
   "source": [
    "Relevant summary measures:\n",
    "- Frequency Counts (categorical data).\n",
    "- Mode.\n",
    "- Mean.\n",
    "- Median. \n",
    "- Minimum.\n",
    "- Maximum. \n",
    "- Range.\n",
    "- Standard Deviation."
   ]
  },
  {
   "cell_type": "code",
   "execution_count": 2,
   "metadata": {
    "vscode": {
     "languageId": "r"
    }
   },
   "outputs": [
    {
     "data": {
      "text/plain": [
       "    Adress            District                   Postcode      Price        \n",
       " Length:135         Length:135         5000          :25   Min.   : 745000  \n",
       " Class :character   Class :character   5200+5210     :26   1st Qu.:1461538  \n",
       " Mode  :character   Mode  :character   5220+5250+5260:29   Median :1635000  \n",
       "                                       5230          :27   Mean   :2146680  \n",
       "                                       5240+5320     : 9   3rd Qu.:2375000  \n",
       "                                       5270          :19   Max.   :9500000  \n",
       "                                                                            \n",
       "    Pricesqm          Dato                   Type     Energyclass\n",
       " Min.   : 6250   Min.   :2024-08-09   Apartment:39   C      :47  \n",
       " 1st Qu.:14051   1st Qu.:2024-08-21   Rowhouse :31   D      :47  \n",
       " Median :19695   Median :2024-08-31   Villa    :65   E      :11  \n",
       " Mean   :19321   Mean   :2024-09-03                  F      : 6  \n",
       " 3rd Qu.:22150   3rd Qu.:2024-09-15                  B      : 5  \n",
       " Max.   :42466   Max.   :2024-09-30                  (Other): 5  \n",
       "                                                     NA's   :14  \n",
       "    Surface          Rooms          Toilets     \n",
       " Min.   : 38.0   Min.   :1.000   Min.   :1.000  \n",
       " 1st Qu.: 75.0   1st Qu.:2.000   1st Qu.:1.000  \n",
       " Median :100.0   Median :4.000   Median :1.000  \n",
       " Mean   :112.3   Mean   :3.867   Mean   :1.437  \n",
       " 3rd Qu.:141.5   3rd Qu.:5.000   3rd Qu.:2.000  \n",
       " Max.   :300.0   Max.   :8.000   Max.   :3.000  \n",
       "                                                \n",
       "                              Roof        Yearc     \n",
       " Roof tile                      :78   Min.   :1852  \n",
       " Other material                 :17   1st Qu.:1938  \n",
       " Fibre cement including asbestos:40   Median :1966  \n",
       "                                      Mean   :1960  \n",
       "                                      3rd Qu.:1976  \n",
       "                                      Max.   :2020  \n",
       "                                                    "
      ]
     },
     "metadata": {},
     "output_type": "display_data"
    }
   ],
   "source": [
    "summary(data)"
   ]
  },
  {
   "cell_type": "code",
   "execution_count": 6,
   "metadata": {
    "vscode": {
     "languageId": "r"
    }
   },
   "outputs": [
    {
     "name": "stderr",
     "output_type": "stream",
     "text": [
      "\n",
      "Attaching package: ‘dplyr’\n",
      "\n",
      "\n",
      "The following objects are masked from ‘package:stats’:\n",
      "\n",
      "    filter, lag\n",
      "\n",
      "\n",
      "The following objects are masked from ‘package:base’:\n",
      "\n",
      "    intersect, setdiff, setequal, union\n",
      "\n",
      "\n"
     ]
    },
    {
     "name": "stdout",
     "output_type": "stream",
     "text": [
      "Unique Addresses Count\n"
     ]
    },
    {
     "data": {
      "text/plain": [
       "\n",
       "\n",
       "| Unique.Addresses.Count|\n",
       "|----------------------:|\n",
       "|                    135|"
      ]
     },
     "metadata": {},
     "output_type": "display_data"
    },
    {
     "name": "stdout",
     "output_type": "stream",
     "text": [
      "\n",
      "Unique Districts Count\n"
     ]
    },
    {
     "data": {
      "text/plain": [
       "\n",
       "\n",
       "| Unique.Districts.Count|\n",
       "|----------------------:|\n",
       "|                     28|"
      ]
     },
     "metadata": {},
     "output_type": "display_data"
    },
    {
     "name": "stdout",
     "output_type": "stream",
     "text": [
      "\n",
      "Unique Years Count\n"
     ]
    },
    {
     "data": {
      "text/plain": [
       "\n",
       "\n",
       "| Unique.Years.Count|\n",
       "|------------------:|\n",
       "|                 60|"
      ]
     },
     "metadata": {},
     "output_type": "display_data"
    },
    {
     "name": "stdout",
     "output_type": "stream",
     "text": [
      "\n",
      "Postcode Frequency\n"
     ]
    },
    {
     "data": {
      "text/plain": [
       "\n",
       "\n",
       "|Postcode       | Frequency|\n",
       "|:--------------|---------:|\n",
       "|5220+5250+5260 |        29|\n",
       "|5230           |        27|\n",
       "|5200+5210      |        26|\n",
       "|5000           |        25|\n",
       "|5270           |        19|\n",
       "|5240+5320      |         9|"
      ]
     },
     "metadata": {},
     "output_type": "display_data"
    },
    {
     "name": "stdout",
     "output_type": "stream",
     "text": [
      "\n",
      "Type Frequency\n"
     ]
    },
    {
     "data": {
      "text/plain": [
       "\n",
       "\n",
       "|Type      | Frequency|\n",
       "|:---------|---------:|\n",
       "|Villa     |        65|\n",
       "|Apartment |        39|\n",
       "|Rowhouse  |        31|"
      ]
     },
     "metadata": {},
     "output_type": "display_data"
    },
    {
     "name": "stdout",
     "output_type": "stream",
     "text": [
      "\n",
      "Energy Class Frequency\n"
     ]
    },
    {
     "data": {
      "text/plain": [
       "\n",
       "\n",
       "|Energyclass | Frequency|\n",
       "|:-----------|---------:|\n",
       "|C           |        47|\n",
       "|D           |        47|\n",
       "|NA          |        14|\n",
       "|E           |        11|\n",
       "|F           |         6|\n",
       "|B           |         5|\n",
       "|A           |         4|\n",
       "|G           |         1|"
      ]
     },
     "metadata": {},
     "output_type": "display_data"
    },
    {
     "name": "stdout",
     "output_type": "stream",
     "text": [
      "\n",
      "Roof Frequency\n"
     ]
    },
    {
     "data": {
      "text/plain": [
       "\n",
       "\n",
       "|Roof                            | Frequency|\n",
       "|:-------------------------------|---------:|\n",
       "|Roof tile                       |        78|\n",
       "|Fibre cement including asbestos |        40|\n",
       "|Other material                  |        17|"
      ]
     },
     "metadata": {},
     "output_type": "display_data"
    },
    {
     "name": "stdout",
     "output_type": "stream",
     "text": [
      "\n",
      "Rooms Summary\n"
     ]
    },
    {
     "data": {
      "text/plain": [
       "\n",
       "\n",
       "| Rooms Mean| Rooms Median| Rooms Mode| Rooms Min| Rooms Max| Rooms Range| Rooms SD|\n",
       "|----------:|------------:|----------:|---------:|---------:|-----------:|--------:|\n",
       "|   3.866667|            4|          4|         1|         8|           7| 1.596638|"
      ]
     },
     "metadata": {},
     "output_type": "display_data"
    },
    {
     "name": "stdout",
     "output_type": "stream",
     "text": [
      "\n",
      "Toilets Summary\n"
     ]
    },
    {
     "data": {
      "text/plain": [
       "\n",
       "\n",
       "| Toilets Mean| Toilets Median| Toilets Mode| Toilets Min| Toilets Max| Toilets Range| Toilets SD|\n",
       "|------------:|--------------:|------------:|-----------:|-----------:|-------------:|----------:|\n",
       "|     1.437037|              1|            1|           1|           3|             2|  0.5935902|"
      ]
     },
     "metadata": {},
     "output_type": "display_data"
    },
    {
     "name": "stdout",
     "output_type": "stream",
     "text": [
      "\n",
      "Price Summary\n"
     ]
    },
    {
     "data": {
      "text/plain": [
       "\n",
       "\n",
       "| Price Mean| Price Median| Price Mode| Price Min| Price Max| Price Range| Price SD|\n",
       "|----------:|------------:|----------:|---------:|---------:|-----------:|--------:|\n",
       "|    2146680|      1635000|    1461538|    745000|   9500000|     8755000|  1351308|"
      ]
     },
     "metadata": {},
     "output_type": "display_data"
    },
    {
     "name": "stdout",
     "output_type": "stream",
     "text": [
      "\n",
      "Price per sqm Summary\n"
     ]
    },
    {
     "data": {
      "text/plain": [
       "\n",
       "\n",
       "| Price per sqm Mean| Price per sqm Median| Price per sqm Mode| Price per sqm Min| Price per sqm Max| Price per sqm Range| Price per sqm SD|\n",
       "|------------------:|--------------------:|------------------:|-----------------:|-----------------:|-------------------:|----------------:|\n",
       "|           19320.96|             19694.74|           20879.12|              6250|          42465.75|            36215.75|         6809.605|"
      ]
     },
     "metadata": {},
     "output_type": "display_data"
    },
    {
     "name": "stdout",
     "output_type": "stream",
     "text": [
      "\n",
      "Surface Summary\n"
     ]
    },
    {
     "data": {
      "text/plain": [
       "\n",
       "\n",
       "| Surface Mean| Surface Median| Surface Mode| Surface Min| Surface Max| Surface Range| Surface SD|\n",
       "|------------:|--------------:|------------:|-----------:|-----------:|-------------:|----------:|\n",
       "|     112.3481|            100|           66|          38|         300|           262|   48.31077|"
      ]
     },
     "metadata": {},
     "output_type": "display_data"
    },
    {
     "name": "stdout",
     "output_type": "stream",
     "text": [
      "\n",
      "Date Summary\n"
     ]
    },
    {
     "data": {
      "text/plain": [
       "\n",
       "\n",
       "|Dato.Min   |Dato.Max   | Unique.Dates.Count|\n",
       "|:----------|:----------|------------------:|\n",
       "|2024-08-09 |2024-09-30 |                 41|"
      ]
     },
     "metadata": {},
     "output_type": "display_data"
    }
   ],
   "source": [
    "library(dplyr)\n",
    "library(tidyr)\n",
    "library(knitr)\n",
    "\n",
    "# Unique Addresses Count\n",
    "unique_addresses_count <- data.frame(`Unique Addresses Count` = n_distinct(data$Adress))\n",
    "\n",
    "# Count of unique districts and years\n",
    "unique_districts_count <- data.frame(`Unique Districts Count` = n_distinct(data$District))\n",
    "unique_years_count <- data.frame(`Unique Years Count` = n_distinct(data$Yearc))\n",
    "\n",
    "# Frequency for Postcode\n",
    "postcode_freq <- data %>%\n",
    "  count(Postcode) %>%\n",
    "  arrange(desc(n)) %>%\n",
    "  rename(Frequency = n)\n",
    "\n",
    "# Frequency for Type\n",
    "type_freq <- data %>%\n",
    "  count(Type) %>%\n",
    "  arrange(desc(n)) %>%\n",
    "  rename(Frequency = n)\n",
    "\n",
    "# Frequency for Energy Class\n",
    "energyclass_freq <- data %>%\n",
    "  count(Energyclass) %>%\n",
    "  arrange(desc(n)) %>%\n",
    "  rename(Frequency = n)\n",
    "\n",
    "# Frequency for Roof\n",
    "roof_freq <- data %>%\n",
    "  count(Roof) %>%\n",
    "  arrange(desc(n)) %>%\n",
    "  rename(Frequency = n)\n",
    "\n",
    "# Summary statistics for Rooms\n",
    "rooms_summary <- data %>%\n",
    "  summarise(\n",
    "    `Rooms Mean` = mean(Rooms, na.rm = TRUE),\n",
    "    `Rooms Median` = median(Rooms, na.rm = TRUE),\n",
    "    `Rooms Mode` = as.numeric(names(which.max(table(Rooms)))),\n",
    "    `Rooms Min` = min(Rooms, na.rm = TRUE),\n",
    "    `Rooms Max` = max(Rooms, na.rm = TRUE),\n",
    "    `Rooms Range` = max(Rooms, na.rm = TRUE) - min(Rooms, na.rm = TRUE),\n",
    "    `Rooms SD` = sd(Rooms, na.rm = TRUE)\n",
    "  )\n",
    "\n",
    "# Summary statistics for Toilets\n",
    "toilets_summary <- data %>%\n",
    "  summarise(\n",
    "    `Toilets Mean` = mean(Toilets, na.rm = TRUE),\n",
    "    `Toilets Median` = median(Toilets, na.rm = TRUE),\n",
    "    `Toilets Mode` = as.numeric(names(which.max(table(Toilets)))),\n",
    "    `Toilets Min` = min(Toilets, na.rm = TRUE),\n",
    "    `Toilets Max` = max(Toilets, na.rm = TRUE),\n",
    "    `Toilets Range` = max(Toilets, na.rm = TRUE) - min(Toilets, na.rm = TRUE),\n",
    "    `Toilets SD` = sd(Toilets, na.rm = TRUE)\n",
    "  )\n",
    "\n",
    "# Summary statistics for Price\n",
    "price_summary <- data %>%\n",
    "  summarise(\n",
    "    `Price Mean` = mean(Price, na.rm = TRUE),\n",
    "    `Price Median` = median(Price, na.rm = TRUE),\n",
    "    `Price Mode` = as.numeric(names(which.max(table(Price)))),\n",
    "    `Price Min` = min(Price, na.rm = TRUE),\n",
    "    `Price Max` = max(Price, na.rm = TRUE),\n",
    "    `Price Range` = max(Price, na.rm = TRUE) - min(Price, na.rm = TRUE),\n",
    "    `Price SD` = sd(Price, na.rm = TRUE)\n",
    "  )\n",
    "\n",
    "# Summary statistics for Price per sqm\n",
    "price_per_sqm_summary <- data %>%\n",
    "  summarise(\n",
    "    `Price per sqm Mean` = mean(Pricesqm, na.rm = TRUE),\n",
    "    `Price per sqm Median` = median(Pricesqm, na.rm = TRUE),\n",
    "    `Price per sqm Mode` = as.numeric(names(which.max(table(Pricesqm)))),\n",
    "    `Price per sqm Min` = min(Pricesqm, na.rm = TRUE),\n",
    "    `Price per sqm Max` = max(Pricesqm, na.rm = TRUE),\n",
    "    `Price per sqm Range` = max(Pricesqm, na.rm = TRUE) - min(Pricesqm, na.rm = TRUE),\n",
    "    `Price per sqm SD` = sd(Pricesqm, na.rm = TRUE)\n",
    "  )\n",
    "\n",
    "# Summary statistics for Surface\n",
    "surface_summary <- data %>%\n",
    "  summarise(\n",
    "    `Surface Mean` = mean(Surface, na.rm = TRUE),\n",
    "    `Surface Median` = median(Surface, na.rm = TRUE),\n",
    "    `Surface Mode` = as.numeric(names(which.max(table(Surface)))),\n",
    "    `Surface Min` = min(Surface, na.rm = TRUE),\n",
    "    `Surface Max` = max(Surface, na.rm = TRUE),\n",
    "    `Surface Range` = max(Surface, na.rm = TRUE) - min(Surface, na.rm = TRUE),\n",
    "    `Surface SD` = sd(Surface, na.rm = TRUE)\n",
    "  )\n",
    "\n",
    "# Summary for Dates\n",
    "date_summary <- data.frame(\n",
    "  `Dato Min` = min(data$Dato, na.rm = TRUE),\n",
    "  `Dato Max` = max(data$Dato, na.rm = TRUE),\n",
    "  `Unique Dates Count` = length(unique(data$Dato))\n",
    ")\n",
    "\n",
    "# Display each table\n",
    "cat(\"Unique Addresses Count\\n\")\n",
    "kable(unique_addresses_count)\n",
    "\n",
    "cat(\"\\nUnique Districts Count\\n\")\n",
    "kable(unique_districts_count)\n",
    "\n",
    "cat(\"\\nUnique Years Count\\n\")\n",
    "kable(unique_years_count)\n",
    "\n",
    "cat(\"\\nPostcode Frequency\\n\")\n",
    "kable(postcode_freq)\n",
    "\n",
    "cat(\"\\nType Frequency\\n\")\n",
    "kable(type_freq)\n",
    "\n",
    "cat(\"\\nEnergy Class Frequency\\n\")\n",
    "kable(energyclass_freq)\n",
    "\n",
    "cat(\"\\nRoof Frequency\\n\")\n",
    "kable(roof_freq)\n",
    "\n",
    "cat(\"\\nRooms Summary\\n\")\n",
    "kable(rooms_summary)\n",
    "\n",
    "cat(\"\\nToilets Summary\\n\")\n",
    "kable(toilets_summary)\n",
    "\n",
    "cat(\"\\nPrice Summary\\n\")\n",
    "kable(price_summary)\n",
    "\n",
    "cat(\"\\nPrice per sqm Summary\\n\")\n",
    "kable(price_per_sqm_summary)\n",
    "\n",
    "cat(\"\\nSurface Summary\\n\")\n",
    "kable(surface_summary)\n",
    "\n",
    "cat(\"\\nDate Summary\\n\")\n",
    "kable(date_summary)\n"
   ]
  },
  {
   "cell_type": "markdown",
   "metadata": {},
   "source": [
    "Reporting percentage of missing values."
   ]
  },
  {
   "cell_type": "code",
   "execution_count": 7,
   "metadata": {
    "vscode": {
     "languageId": "r"
    }
   },
   "outputs": [
    {
     "name": "stdout",
     "output_type": "stream",
     "text": [
      "\n",
      "Percentage of Missing Values for Each Variable\n"
     ]
    },
    {
     "data": {
      "text/plain": [
       "\n",
       "\n",
       "|            |Variable    | Missing.Percentage|\n",
       "|:-----------|:-----------|------------------:|\n",
       "|Adress      |Adress      |            0.00000|\n",
       "|District    |District    |            0.00000|\n",
       "|Postcode    |Postcode    |            0.00000|\n",
       "|Price       |Price       |            0.00000|\n",
       "|Pricesqm    |Pricesqm    |            0.00000|\n",
       "|Dato        |Dato        |            0.00000|\n",
       "|Type        |Type        |            0.00000|\n",
       "|Energyclass |Energyclass |           10.37037|\n",
       "|Surface     |Surface     |            0.00000|\n",
       "|Rooms       |Rooms       |            0.00000|\n",
       "|Toilets     |Toilets     |            0.00000|\n",
       "|Roof        |Roof        |            0.00000|\n",
       "|Yearc       |Yearc       |            0.00000|"
      ]
     },
     "metadata": {},
     "output_type": "display_data"
    }
   ],
   "source": [
    "# Function to calculate percentage of missing values\n",
    "missing_percentage <- function(df) {\n",
    "  sapply(df, function(x) sum(is.na(x)) / length(x) * 100)\n",
    "}\n",
    "missing_values <- missing_percentage(data)\n",
    "# Display Missing Values Percentage\n",
    "cat(\"\\nPercentage of Missing Values for Each Variable\\n\")\n",
    "missing_values_df <- data.frame(\n",
    "  Variable = names(missing_values),\n",
    "  `Missing Percentage` = missing_values\n",
    ")\n",
    "kable(missing_values_df)"
   ]
  },
  {
   "cell_type": "markdown",
   "metadata": {},
   "source": [
    "Only the variable `Energyclass` has missing values, which account for $10\\%$ of the data for said variable."
   ]
  },
  {
   "cell_type": "markdown",
   "metadata": {},
   "source": [
    "### (Two-way ANOVA)"
   ]
  },
  {
   "cell_type": "markdown",
   "metadata": {},
   "source": [
    "In this scenario, a linear model is considered, `Pricesqm` as a response and `Roof`,`Postcode` as only predictors. "
   ]
  },
  {
   "cell_type": "markdown",
   "metadata": {},
   "source": [
    "a) Create scatter plots"
   ]
  },
  {
   "cell_type": "code",
   "execution_count": 6,
   "metadata": {
    "vscode": {
     "languageId": "r"
    }
   },
   "outputs": [],
   "source": [
    "# response variable: Pricesqm\n",
    "# predictor variables: Roof, Postcode\n",
    "# scatterplot of the response versus the two factors (reflect both factors simultaneously)\n",
    "library(ggplot2)\n",
    "library(gridExtra)\n",
    "plot1 <- ggplot(data, aes(x = Roof, y = Pricesqm, color = Postcode)) +\n",
    "  geom_point() +\n",
    "  labs(title = \"Scatterplot of Price per sqm versus Roof and Postcode\") +\n",
    "  theme_minimal()\n",
    "plot2 <- ggplot(data, aes(x = Postcode, y = Pricesqm, color = Roof)) +\n",
    "  geom_point() +\n",
    "  labs(title = \"Scatterplot of Price per sqm versus Roof and Postcode\") +\n",
    "  theme_minimal() +\n",
    "  theme(axis.text.x = element_text(angle = 45, hjust = 1))"
   ]
  },
  {
   "cell_type": "code",
   "execution_count": 9,
   "metadata": {
    "vscode": {
     "languageId": "r"
    }
   },
   "outputs": [],
   "source": [
    "#save plot2\n",
    "ggsave(\"scatter.pdf\", plot2, width = 10, height = 6, units = \"in\", dpi = 300)\n"
   ]
  },
  {
   "cell_type": "markdown",
   "metadata": {},
   "source": [
    "b) Conduct a two-way analysis of variances including an interaction to analyse the data."
   ]
  },
  {
   "cell_type": "code",
   "execution_count": 2,
   "metadata": {
    "vscode": {
     "languageId": "r"
    }
   },
   "outputs": [
    {
     "data": {
      "text/plain": [
       "               Df    Sum Sq   Mean Sq F value   Pr(>F)    \n",
       "Roof            2 3.128e+08 156382404   4.440   0.0138 *  \n",
       "Postcode        5 1.575e+09 315047281   8.946 3.21e-07 ***\n",
       "Roof:Postcode  10 2.052e+08  20518893   0.583   0.8254    \n",
       "Residuals     117 4.120e+09  35217827                     \n",
       "---\n",
       "Signif. codes:  0 ‘***’ 0.001 ‘**’ 0.01 ‘*’ 0.05 ‘.’ 0.1 ‘ ’ 1"
      ]
     },
     "metadata": {},
     "output_type": "display_data"
    }
   ],
   "source": [
    "# two-way analysis of variances.\n",
    "data$Roof <- as.factor(data$Roof)\n",
    "data$Postcode <- as.factor(data$Postcode)\n",
    "\n",
    "# Fit the two-way ANOVA model including interaction\n",
    "anova_model <- aov(Pricesqm ~ Roof * Postcode, data = data)\n",
    "\n",
    "# Display the summary of the model\n",
    "summary(anova_model)"
   ]
  },
  {
   "cell_type": "code",
   "execution_count": 11,
   "metadata": {
    "vscode": {
     "languageId": "r"
    }
   },
   "outputs": [
    {
     "data": {
      "text/html": [
       "<strong>pdf:</strong> 2"
      ],
      "text/latex": [
       "\\textbf{pdf:} 2"
      ],
      "text/markdown": [
       "**pdf:** 2"
      ],
      "text/plain": [
       "pdf \n",
       "  2 "
      ]
     },
     "metadata": {},
     "output_type": "display_data"
    }
   ],
   "source": [
    "# Rename levels of the Roof factor for the plot\n",
    "levels(data$Roof)[levels(data$Roof) == \"Fibre cement including asbestos\"] <- \"Fibre cement\"\n",
    "# Open a PDF device\n",
    "pdf(\"interaction_plot.pdf\", width = 9, height = 6)  # Adjust width and height as needed\n",
    "my_colors <- c(             ## add the standard plotly colors\n",
    "  'red',  \n",
    "  'blue',  \n",
    "  'green',  \n",
    "  'yellow'\n",
    ") \n",
    "\n",
    "# Adjust margins to make space for the external legend if needed\n",
    "par(mar = c(5, 4, 4, 8))\n",
    "\n",
    "# Create the interaction plot without any trace label or built-in legend\n",
    "interaction.plot(data$Postcode, data$Roof, data$Pricesqm,\n",
    "                 col = my_colors,\n",
    "                 xlab = \"Postcode\", ylab = \"Price per sqm\",\n",
    "                 trace.label = \"Roof Type\",\n",
    "                 cex.lab = 0.9,\n",
    "                 cex.axis = 0.8)\n",
    "\n",
    "mtext(\"Scatterplot of Price per sqm by Postcode and Roof Type\")\n",
    "      \n",
    "# Close the PDF device\n",
    "dev.off()\n"
   ]
  },
  {
   "cell_type": "markdown",
   "metadata": {},
   "source": [
    "Comment on results.\n",
    "\n",
    "a) The statistical model for a two-way ANOVA with interaction is:\n",
    "\n",
    "Pricesqm $_{i j k}=\\mu+\\alpha_i+\\beta_j+(\\alpha \\beta)_{i j}+\\epsilon_{i j k}$\n",
    "\n",
    "Where:\n",
    "- $\\mu$ is the overall mean of `Pricesqm`.\n",
    "- $\\alpha_i$ is the effect of the $i$-th level of `Roof`.\n",
    "- $\\beta_j$ is the effect on the $j$-th level of `Postcode`.\n",
    "- $(\\alpha \\beta)_{i j}$ represents the interaction effect between `Roof` and `Postcode`.\n",
    "- $\\epsilon_{i j k}$ are the random errors, assumed to be normally distributed with mean zero and constant variance."
   ]
  },
  {
   "cell_type": "markdown",
   "metadata": {},
   "source": [
    "b) Investigated null hypothesis and alternative hypothesis:\n",
    "\n",
    "For the interaction term one can test:\n",
    "- Null Hypothesis ($H_0$): There is no interaction effect between `Roof` and `Postcode` on `Pricesqm` ($(\\alpha \\beta)_{i j}=0$ for all $\\left.i, j\\right)$).\n",
    "- Alternative Hypothesis ($H_1$): There is an interaction effect between `Roof` and `Postcode` on `Pricesqm` ($(\\alpha \\beta)_{i j} \\neq 0$ for all $\\left.i, j\\right)$)."
   ]
  },
  {
   "cell_type": "markdown",
   "metadata": {},
   "source": [
    "c) Observed value of the test statistic:\n",
    "\n",
    "F-statistic for the interaction term, which quantifies the ratio of the mean square of the interaction to the mean square of the residuals, which is given from the output for the ANOVA model."
   ]
  },
  {
   "cell_type": "markdown",
   "metadata": {},
   "source": [
    "d) Null distribution and corresponding degrees of freedom:\n",
    "\n",
    "The test statistic follows an F-distribution under the null hypothesis. The degrees of freedom for the interaction term correspond to.\n",
    "- Numerator degrees of freedom: (# of levels of Roof − 1)×(# of levels of Postcode − 1)\n",
    "- Denominator degrees of freedom: based on the residuals."
   ]
  },
  {
   "cell_type": "markdown",
   "metadata": {},
   "source": [
    "e) p-value:\n",
    "\n",
    "The p-value indicates the probability of observing the test statistic under the null hypothesis. A small p-value (typically $< 0.05$) would suggest significant interaction effects between `Roof` and `Postcode` on `Pricesqm`. "
   ]
  },
  {
   "cell_type": "markdown",
   "metadata": {},
   "source": [
    "SUMMARY: \n",
    "- No significant interaction between `Roof` and `Postcode`, suggesting they independently affect `Pricesqm`. \n",
    "- Both `Roof` and `Postcode` individually have an significant impact on `Pricesqm`, with `Postcode` having a particularily strong effect."
   ]
  },
  {
   "cell_type": "markdown",
   "metadata": {},
   "source": [
    "c) Continue the statistical analysis and test the preference of additive effects of `Roof` and `Postcode` onto the sales price."
   ]
  },
  {
   "cell_type": "markdown",
   "metadata": {},
   "source": [
    "To conduct the test:\n",
    "1. Fit an additive model. (Include only the main effects of `Roof` and `Postcode` without the interaction.)\n",
    "2. Fit a full model. (Include both main effects and the interaction term.)\n",
    "3. Compare models. (Use an ANOVA comparison to evaluate whether the interaction term significantly improves the fit of the model.)"
   ]
  },
  {
   "cell_type": "code",
   "execution_count": 5,
   "metadata": {
    "vscode": {
     "languageId": "r"
    }
   },
   "outputs": [
    {
     "data": {
      "text/html": [
       "<table class=\"dataframe\">\n",
       "<caption>A anova: 2 × 6</caption>\n",
       "<thead>\n",
       "\t<tr><th></th><th scope=col>Res.Df</th><th scope=col>RSS</th><th scope=col>Df</th><th scope=col>Sum of Sq</th><th scope=col>F</th><th scope=col>Pr(&gt;F)</th></tr>\n",
       "\t<tr><th></th><th scope=col>&lt;dbl&gt;</th><th scope=col>&lt;dbl&gt;</th><th scope=col>&lt;dbl&gt;</th><th scope=col>&lt;dbl&gt;</th><th scope=col>&lt;dbl&gt;</th><th scope=col>&lt;dbl&gt;</th></tr>\n",
       "</thead>\n",
       "<tbody>\n",
       "\t<tr><th scope=row>1</th><td>127</td><td>4325674673</td><td>NA</td><td>       NA</td><td>      NA</td><td>       NA</td></tr>\n",
       "\t<tr><th scope=row>2</th><td>117</td><td>4120485738</td><td>10</td><td>205188934</td><td>0.582628</td><td>0.8254191</td></tr>\n",
       "</tbody>\n",
       "</table>\n"
      ],
      "text/latex": [
       "A anova: 2 × 6\n",
       "\\begin{tabular}{r|llllll}\n",
       "  & Res.Df & RSS & Df & Sum of Sq & F & Pr(>F)\\\\\n",
       "  & <dbl> & <dbl> & <dbl> & <dbl> & <dbl> & <dbl>\\\\\n",
       "\\hline\n",
       "\t1 & 127 & 4325674673 & NA &        NA &       NA &        NA\\\\\n",
       "\t2 & 117 & 4120485738 & 10 & 205188934 & 0.582628 & 0.8254191\\\\\n",
       "\\end{tabular}\n"
      ],
      "text/markdown": [
       "\n",
       "A anova: 2 × 6\n",
       "\n",
       "| <!--/--> | Res.Df &lt;dbl&gt; | RSS &lt;dbl&gt; | Df &lt;dbl&gt; | Sum of Sq &lt;dbl&gt; | F &lt;dbl&gt; | Pr(&gt;F) &lt;dbl&gt; |\n",
       "|---|---|---|---|---|---|---|\n",
       "| 1 | 127 | 4325674673 | NA |        NA |       NA |        NA |\n",
       "| 2 | 117 | 4120485738 | 10 | 205188934 | 0.582628 | 0.8254191 |\n",
       "\n"
      ],
      "text/plain": [
       "  Res.Df RSS        Df Sum of Sq F        Pr(>F)   \n",
       "1 127    4325674673 NA        NA       NA        NA\n",
       "2 117    4120485738 10 205188934 0.582628 0.8254191"
      ]
     },
     "metadata": {},
     "output_type": "display_data"
    }
   ],
   "source": [
    "# Fit the additive model (no interaction term)\n",
    "additive_model <- aov(Pricesqm ~ Roof + Postcode, data = data)\n",
    "\n",
    "# Fit the full model (with interaction term)\n",
    "interaction_model <- aov(Pricesqm ~ Roof * Postcode, data = data)\n",
    "\n",
    "# Compare the two models\n",
    "anova_comparison <- anova(additive_model, interaction_model)\n",
    "anova_comparison"
   ]
  },
  {
   "cell_type": "markdown",
   "metadata": {},
   "source": [
    "The results suggest that modelling `Pricesqm` as an additive function of `Roof` and `Postcode` is sufficient. There is no significant evidence that the interaction between `Roof` and `Postcode` contributes to explaining variations in `Pricesqm`, so it’s reasonable to simplify the model by excluding the interaction term."
   ]
  },
  {
   "cell_type": "code",
   "execution_count": 7,
   "metadata": {
    "vscode": {
     "languageId": "r"
    }
   },
   "outputs": [
    {
     "name": "stdout",
     "output_type": "stream",
     "text": [
      " Roof                            Postcode         emmean       SE  df  lower.CL\n",
      " Roof tile                       5000           24049.94 1217.084 127 21641.549\n",
      " Other material                  5000           24560.17 1865.489 127 20868.706\n",
      " Fibre cement including asbestos 5000           22603.70 1457.535 127 19719.503\n",
      " Roof tile                       5200+5210      18404.71 1289.733 127 15852.561\n",
      " Other material                  5200+5210      18914.94 1854.320 127 15245.580\n",
      " Fibre cement including asbestos 5200+5210      16958.47 1299.219 127 14387.553\n",
      " Roof tile                       5220+5250+5260 17999.72 1186.280 127 15652.287\n",
      " Other material                  5220+5250+5260 18509.96 1737.284 127 15072.183\n",
      " Fibre cement including asbestos 5220+5250+5260 16553.48 1337.943 127 13905.936\n",
      " Roof tile                       5230           23749.83 1141.274 127 21491.452\n",
      " Other material                  5230           24260.06 1863.569 127 20572.394\n",
      " Fibre cement including asbestos 5230           22303.59 1521.137 127 19293.535\n",
      " Roof tile                       5240+5320      13715.44 2152.277 127  9456.477\n",
      " Other material                  5240+5320      14225.68 2137.679 127  9995.599\n",
      " Fibre cement including asbestos 5240+5320      12269.21 2149.010 127  8016.706\n",
      " Roof tile                       5270           15318.87 1453.715 127 12442.228\n",
      " Other material                  5270           15829.10 1885.163 127 12098.706\n",
      " Fibre cement including asbestos 5270           13872.63 1520.344 127 10864.146\n",
      " upper.CL\n",
      " 26458.33\n",
      " 28251.64\n",
      " 25487.90\n",
      " 20956.86\n",
      " 22584.31\n",
      " 19529.39\n",
      " 20347.15\n",
      " 21947.73\n",
      " 19201.03\n",
      " 26008.20\n",
      " 27947.73\n",
      " 25313.65\n",
      " 17974.41\n",
      " 18455.76\n",
      " 16521.71\n",
      " 18195.51\n",
      " 19559.50\n",
      " 16881.12\n",
      "\n",
      "Confidence level used: 0.95 \n"
     ]
    }
   ],
   "source": [
    "# Load the emmeans package\n",
    "if (!requireNamespace(\"emmeans\", quietly = TRUE)) {\n",
    "  install.packages(\"emmeans\")\n",
    "}\n",
    "library(emmeans)\n",
    "\n",
    "# Fit the additive model\n",
    "additive_model <- aov(Pricesqm ~ Roof + Postcode, data = data)\n",
    "\n",
    "# Get estimated marginal means for each combination of Roof and Postcode\n",
    "means_table <- emmeans(additive_model, ~ Roof + Postcode)\n",
    "\n",
    "# Convert the output to a data frame for better readability\n",
    "means_df <- as.data.frame(means_table)\n",
    "\n",
    "# Print the results\n",
    "print(means_df)\n",
    "\n",
    "#save the results as a csv file\n",
    "write.csv(means_df, \"means_df.csv\")\n"
   ]
  },
  {
   "cell_type": "markdown",
   "metadata": {},
   "source": [
    "Explanation of the Output Table (the resulting table (means_df))\n",
    "- Roof: Levels of the `Roof` factor.\n",
    "- Postcode: Levels of the `Postcode` factor.\n",
    "- emmean: Estimated mean of `Pricesqm` for each combination of `Roof` and `Postcode`.\n",
    "- SE: Standard error for each estimated mean.\n",
    "- df: Degrees of freedom associated with the estimate.\n",
    "- lower.CL and upper.CL: Confidence interval bounds for each estimate."
   ]
  },
  {
   "cell_type": "markdown",
   "metadata": {},
   "source": [
    "e) How much variation in `Pricesqm` is explained by the two factors?"
   ]
  },
  {
   "cell_type": "markdown",
   "metadata": {},
   "source": [
    "Calculate the coefficient of determination ($R^2$) for the model. This is the proportion of the total variance explained by the model, calculated as:\n",
    "\n",
    "$R^2=1-\\frac{\\text { Residual Sum of Squares (RSS) }}{\\text { Total Sum of Squares (TSS) }}$\n",
    "\n",
    "Additionally, the absolute reduction in the residual sum of squares is found by comparing the Total Sum of Squares (TSS) (from the null model with no predictors) to the Residual Sum of Squares (RSS) in the additive model.\n",
    "\n",
    "1. Fit the null model (a model with only the intercept, providing TSS).\n",
    "2. Fit the additive model (model with the two predictors, providing RSS).\n",
    "3. Calculate $R^2$ and RRS reduction."
   ]
  },
  {
   "cell_type": "code",
   "execution_count": 6,
   "metadata": {
    "vscode": {
     "languageId": "r"
    }
   },
   "outputs": [
    {
     "data": {
      "text/html": [
       "<dl>\n",
       "\t<dt>$Total_Sum_of_Squares</dt>\n",
       "\t\t<dd>6213675884.90169</dd>\n",
       "\t<dt>$Residual_Sum_of_Squares</dt>\n",
       "\t\t<dd>4325674672.5909</dd>\n",
       "\t<dt>$R_squared</dt>\n",
       "\t\t<dd>0.303846104509307</dd>\n",
       "\t<dt>$RSS_reduction</dt>\n",
       "\t\t<dd>1888001212.3108</dd>\n",
       "</dl>\n"
      ],
      "text/latex": [
       "\\begin{description}\n",
       "\\item[\\$Total\\_Sum\\_of\\_Squares] 6213675884.90169\n",
       "\\item[\\$Residual\\_Sum\\_of\\_Squares] 4325674672.5909\n",
       "\\item[\\$R\\_squared] 0.303846104509307\n",
       "\\item[\\$RSS\\_reduction] 1888001212.3108\n",
       "\\end{description}\n"
      ],
      "text/markdown": [
       "$Total_Sum_of_Squares\n",
       ":   6213675884.90169\n",
       "$Residual_Sum_of_Squares\n",
       ":   4325674672.5909\n",
       "$R_squared\n",
       ":   0.303846104509307\n",
       "$RSS_reduction\n",
       ":   1888001212.3108\n",
       "\n",
       "\n"
      ],
      "text/plain": [
       "$Total_Sum_of_Squares\n",
       "[1] 6213675885\n",
       "\n",
       "$Residual_Sum_of_Squares\n",
       "[1] 4325674673\n",
       "\n",
       "$R_squared\n",
       "[1] 0.3038461\n",
       "\n",
       "$RSS_reduction\n",
       "[1] 1888001212\n"
      ]
     },
     "metadata": {},
     "output_type": "display_data"
    }
   ],
   "source": [
    "# Fit the null model to get the total sum of squares (TSS)\n",
    "null_model <- aov(Pricesqm ~ 1, data = data)\n",
    "TSS <- sum((data$Pricesqm - mean(data$Pricesqm))^2)  # or `sum(residuals(null_model)^2)`\n",
    "\n",
    "# Fit the additive model (without interaction) to get the residual sum of squares (RSS)\n",
    "additive_model <- aov(Pricesqm ~ Roof + Postcode, data = data)\n",
    "RSS <- sum(residuals(additive_model)^2)\n",
    "\n",
    "# Calculate R²\n",
    "R_squared <- 1 - (RSS / TSS)\n",
    "\n",
    "# Absolute reduction in RSS\n",
    "RSS_reduction <- TSS - RSS\n",
    "\n",
    "# Output results\n",
    "list(Total_Sum_of_Squares = TSS, Residual_Sum_of_Squares = RSS, R_squared = R_squared, RSS_reduction = RSS_reduction)"
   ]
  },
  {
   "cell_type": "markdown",
   "metadata": {},
   "source": [
    "- TSS: measure of total variability in `Pricesqm` without accounting for predictors. \n",
    "- RRS: measure of total variability in `Pricesqm` that remains unexplained by the model. \n",
    "- $R^2$: the proportion of variability in `Pricesqm` explained by the two predictors. \n",
    "- RSS Reduction: The absolute reduction in RSS, indicating how much the variability is reduced by including `Roof` and `Postcode` as predictors.\n",
    "\n",
    "Results from the table confirm that `Roof` and `Postcode` explain a substantial, though not overwhelming, part of the variability in sales price per square meter. The additive model effectively captures some of the variation in housing prices, but other factors may also contribute to the remaining unexplained variance."
   ]
  },
  {
   "cell_type": "markdown",
   "metadata": {},
   "source": [
    "### (Model Extensions)"
   ]
  },
  {
   "cell_type": "markdown",
   "metadata": {},
   "source": [
    "Consider an extended statistical model for `Pricesqm`, by including `Type`, `Yearc`, and `Surface`. Compare the extended model with the two-way model. "
   ]
  },
  {
   "cell_type": "markdown",
   "metadata": {},
   "source": [
    "1. Fit two-way model (includes `Roof` and `Postcode`).\n",
    "2. Fit the extended model (`Roof`, `Postcode`, `Type`, `Yearc`, and `Surface`).\n",
    "3. Conduct ANOVA comparison."
   ]
  },
  {
   "cell_type": "markdown",
   "metadata": {},
   "source": [
    "- Null Hypothesis: simpler two-way model is sufficient to explain the variability in `Pricesqm`.\n",
    "- Alternative Hypothesis: the extended model significantly improves the fit. "
   ]
  },
  {
   "cell_type": "code",
   "execution_count": 7,
   "metadata": {
    "vscode": {
     "languageId": "r"
    }
   },
   "outputs": [
    {
     "data": {
      "text/html": [
       "<table class=\"dataframe\">\n",
       "<caption>A anova: 2 × 6</caption>\n",
       "<thead>\n",
       "\t<tr><th></th><th scope=col>Res.Df</th><th scope=col>RSS</th><th scope=col>Df</th><th scope=col>Sum of Sq</th><th scope=col>F</th><th scope=col>Pr(&gt;F)</th></tr>\n",
       "\t<tr><th></th><th scope=col>&lt;dbl&gt;</th><th scope=col>&lt;dbl&gt;</th><th scope=col>&lt;dbl&gt;</th><th scope=col>&lt;dbl&gt;</th><th scope=col>&lt;dbl&gt;</th><th scope=col>&lt;dbl&gt;</th></tr>\n",
       "</thead>\n",
       "<tbody>\n",
       "\t<tr><th scope=row>1</th><td>127</td><td>4325674673</td><td>NA</td><td>       NA</td><td>      NA</td><td>        NA</td></tr>\n",
       "\t<tr><th scope=row>2</th><td>123</td><td>4031944023</td><td> 4</td><td>293730650</td><td>2.240164</td><td>0.06852227</td></tr>\n",
       "</tbody>\n",
       "</table>\n"
      ],
      "text/latex": [
       "A anova: 2 × 6\n",
       "\\begin{tabular}{r|llllll}\n",
       "  & Res.Df & RSS & Df & Sum of Sq & F & Pr(>F)\\\\\n",
       "  & <dbl> & <dbl> & <dbl> & <dbl> & <dbl> & <dbl>\\\\\n",
       "\\hline\n",
       "\t1 & 127 & 4325674673 & NA &        NA &       NA &         NA\\\\\n",
       "\t2 & 123 & 4031944023 &  4 & 293730650 & 2.240164 & 0.06852227\\\\\n",
       "\\end{tabular}\n"
      ],
      "text/markdown": [
       "\n",
       "A anova: 2 × 6\n",
       "\n",
       "| <!--/--> | Res.Df &lt;dbl&gt; | RSS &lt;dbl&gt; | Df &lt;dbl&gt; | Sum of Sq &lt;dbl&gt; | F &lt;dbl&gt; | Pr(&gt;F) &lt;dbl&gt; |\n",
       "|---|---|---|---|---|---|---|\n",
       "| 1 | 127 | 4325674673 | NA |        NA |       NA |         NA |\n",
       "| 2 | 123 | 4031944023 |  4 | 293730650 | 2.240164 | 0.06852227 |\n",
       "\n"
      ],
      "text/plain": [
       "  Res.Df RSS        Df Sum of Sq F        Pr(>F)    \n",
       "1 127    4325674673 NA        NA       NA         NA\n",
       "2 123    4031944023  4 293730650 2.240164 0.06852227"
      ]
     },
     "metadata": {},
     "output_type": "display_data"
    }
   ],
   "source": [
    "# Fit the two-way model (with only Roof and Postcode)\n",
    "two_way_model <- aov(Pricesqm ~ Roof + Postcode, data = data)\n",
    "\n",
    "# Fit the extended model (adding Type, Yearc, and Surface)\n",
    "extended_model <- aov(Pricesqm ~ Roof + Postcode + Type + Yearc + Surface, data = data)\n",
    "\n",
    "# Perform ANOVA comparison\n",
    "anova_comparison <- anova(two_way_model, extended_model)\n",
    "anova_comparison"
   ]
  },
  {
   "cell_type": "markdown",
   "metadata": {},
   "source": [
    "The extended model explains more variance (lower RSS) than the two-way model, which is a positive indicator of its performance. However, the improvement in fit is marginal and not statistically significant at the conventional alpha level ($0.05$). This suggests that while the extended model may be better, the evidence is not strong enough to claim that the extended model significantly improves upon the two-way model."
   ]
  },
  {
   "cell_type": "markdown",
   "metadata": {},
   "source": [
    "### (Residual Diagnostics)"
   ]
  },
  {
   "cell_type": "markdown",
   "metadata": {},
   "source": [
    "Perform a graphical check of the most inclusive model.\n",
    "- Calculate standardised residuals and fitted values.\n",
    "- Create two residual plots (residuals versus fitted values, QQ-plot)"
   ]
  },
  {
   "cell_type": "code",
   "execution_count": 16,
   "metadata": {
    "vscode": {
     "languageId": "r"
    }
   },
   "outputs": [
    {
     "data": {
      "image/png": "[encoded data removed]",
      "text/plain": [
       "plot without title"
      ]
     },
     "metadata": {
      "image/png": {
       "height": 420,
       "width": 420
      }
     },
     "output_type": "display_data"
    }
   ],
   "source": [
    "# Fit the extended model (Roof, Postcode, Type, Yearc, Surface)\n",
    "extended_model <- lm(Pricesqm ~ Roof + Postcode + Type + Yearc + Surface, data = data)\n",
    "\n",
    "# Calculate standardized residuals and fitted values\n",
    "data$standardized_residuals <- rstandard(extended_model)\n",
    "data$fitted_values <- fitted(extended_model)\n",
    "\n",
    "# Load plotting libraries\n",
    "library(ggplot2)\n",
    "library(ggpubr)\n",
    "\n",
    "# Plot 1: Residuals vs Fitted Values\n",
    "residuals_vs_fitted <- ggplot(data, aes(x = fitted_values, y = standardized_residuals)) +\n",
    "  geom_point(color = \"blue\", alpha = 0.6) +\n",
    "  geom_hline(yintercept = 0, linetype = \"dashed\", color = \"red\") +\n",
    "  labs(title = \"Residuals vs Fitted Values\", x = \"Fitted Values\", y = \"Standardized Residuals\") +\n",
    "  theme_minimal()\n",
    "\n",
    "# Plot 2: QQ-Plot\n",
    "qq_plot <- ggplot(data, aes(sample = standardized_residuals)) +\n",
    "  stat_qq() +\n",
    "  stat_qq_line(color = \"red\") +\n",
    "  labs(title = \"QQ-Plot of Standardised Residuals\") +\n",
    "  theme_minimal()\n",
    "# Arrange plots side by side\n",
    "ggarrange(residuals_vs_fitted, qq_plot, ncol = 2, nrow = 1)\n"
   ]
  },
  {
   "cell_type": "code",
   "execution_count": 17,
   "metadata": {
    "vscode": {
     "languageId": "r"
    }
   },
   "outputs": [],
   "source": [
    "# save the plots together\n",
    "ggsave(\"residuals_qq_plot.pdf\", ggarrange(residuals_vs_fitted, qq_plot, ncol = 2, nrow = 1), width = 12, height = 6, units = \"in\", dpi = 300)"
   ]
  },
  {
   "cell_type": "markdown",
   "metadata": {},
   "source": [
    "## Exercise 2"
   ]
  },
  {
   "cell_type": "markdown",
   "metadata": {},
   "source": [
    "## Exercise 3"
   ]
  },
  {
   "cell_type": "markdown",
   "metadata": {},
   "source": [
    "Consider a linear regression model with response $y$, an intercept, and two explanatory variables $x_1$ and $x_2$\n",
    "\n",
    "$y_i=\\beta_1+\\beta_2 x_{i 1}+\\beta_3 x_{i 2}+\\varepsilon_{i,} \\quad i=1 \\ldots, n$,\n",
    "\n",
    "The errors $\\varepsilon_1 ,..., \\varepsilon_n$ are independent, centered, and have a common variance $\\sigma^2$, and let $\\hat{\\beta}_1, \\hat{\\beta}_2$ and $\\hat{\\beta}_3$ be the least square estimators for $\\beta_1$, $\\beta_2$, and $\\beta_3$. \n",
    "\n",
    "Assume the sample correlation of the two explanatory variables $x_1$ and $x_2$ is positive ($r_{x_1, x_2}>0$)."
   ]
  },
  {
   "cell_type": "markdown",
   "metadata": {},
   "source": [
    "2. Write a small simulation program in R that confirms the above point. Especially this should  involve the following steps: For  a  model  matrix  of  your  choice  corresponding to (1) and (2),\n",
    "- Simulate the response\n",
    "- Calculate the least square estimates\n",
    "- Repeat these steps a sufficient number of times\n",
    "- Confirm 1. using suitable plots and summary measures of the obtained sample of LS-estimates\n",
    "\n",
    "Moreover, use your own commands for the repeated calculation of LS-estimates during the simulation,i.e. do not use built-in functions for model fitting such as lm. It should be possible to reproduce your simulation."
   ]
  },
  {
   "cell_type": "code",
   "execution_count": 19,
   "metadata": {
    "vscode": {
     "languageId": "r"
    }
   },
   "outputs": [
    {
     "name": "stdout",
     "output_type": "stream",
     "text": [
      "Correlation between beta2 and beta3 estimates across simulations: -0.6895159 \n"
     ]
    }
   ],
   "source": [
    "# Set parameters\n",
    "set.seed(123)    # Set seed for reproducibility\n",
    "n <- 100         # Number of observations\n",
    "num_sim <- 1000  # Number of simulations\n",
    "rho <- 0.7       # Desired positive correlation between x1 and x2\n",
    "\n",
    "# Preallocate a vector to store estimates of beta2 and beta3\n",
    "beta2_estimates <- numeric(num_sim)\n",
    "beta3_estimates <- numeric(num_sim)\n",
    "\n",
    "# Run the simulation\n",
    "for (i in 1:num_sim) {\n",
    "  # Generate correlated x1 and x2\n",
    "  Sigma <- matrix(c(1, rho, rho, 1), nrow = 2)  # Covariance matrix for x1 and x2\n",
    "  x <- MASS::mvrnorm(n, mu = c(0, 0), Sigma = Sigma)  # Generate correlated data\n",
    "  x1 <- x[, 1]\n",
    "  x2 <- x[, 2]\n",
    "  \n",
    "  # Generate response variable y\n",
    "  beta1 <- 1; beta2 <- 2; beta3 <- -3\n",
    "  y <- beta1 + beta2 * x1 + beta3 * x2 + rnorm(n, mean = 0, sd = 1)\n",
    "  \n",
    "  # Fit linear model\n",
    "  fit <- lm(y ~ x1 + x2)\n",
    "  \n",
    "  # Store estimates of beta2 and beta3\n",
    "  beta2_estimates[i] <- coef(fit)[\"x1\"]\n",
    "  beta3_estimates[i] <- coef(fit)[\"x2\"]\n",
    "}\n",
    "\n",
    "# Calculate and display the correlation between beta2 and beta3 estimates\n",
    "correlation <- cor(beta2_estimates, beta3_estimates)\n",
    "cat(\"Correlation between beta2 and beta3 estimates across simulations:\", correlation, \"\\n\")\n"
   ]
  }
 ],
 "metadata": {
  "kernelspec": {
   "display_name": "R",
   "language": "R",
   "name": "ir"
  },
  "language_info": {
   "codemirror_mode": "r",
   "file_extension": ".r",
   "mimetype": "text/x-r-source",
   "name": "R",
   "pygments_lexer": "r",
   "version": "4.4.1"
  }
 },
 "nbformat": 4,
 "nbformat_minor": 2
}
